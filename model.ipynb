{
 "cells": [
  {
   "cell_type": "code",
   "execution_count": 59,
   "metadata": {},
   "outputs": [],
   "source": [
    "# Import Data manipulation Libraries\n",
    "\n",
    "import pandas as pd\n",
    "import numpy as np\n",
    "\n",
    "# Import Data Visualization Libraries\n",
    "\n",
    "import seaborn as sns\n",
    "import matplotlib.pyplot as plt\n",
    "\n",
    "# import filter warnings library\n",
    "\n",
    "import warnings\n",
    "warnings.filterwarnings('ignore')\n",
    "\n",
    "# import logging library\n",
    "\n",
    "import logging\n",
    "logging.basicConfig(filename = \"model.log\",\n",
    "                    level=logging.INFO,\n",
    "                    format='%(asctime)s - %(levelname)s - %(message)s')\n",
    "                    \n"
   ]
  },
  {
   "cell_type": "code",
   "execution_count": 60,
   "metadata": {},
   "outputs": [],
   "source": [
    "# Load the dataset\n",
    "\n",
    "D1 = ('https://raw.githubusercontent.com/adnansayyedd/Energy_Consumption_Prediction_MLModel/refs/heads/main/train_energy_data.csv')\n",
    "D2 = ('https://raw.githubusercontent.com/adnansayyedd/Energy_Consumption_Prediction_MLModel/refs/heads/main/test_energy_data.csv')\n",
    "\n",
    "df1 = pd.read_csv(D1)\n",
    "df2 = pd.read_csv(D2)\n"
   ]
  },
  {
   "cell_type": "code",
   "execution_count": 61,
   "metadata": {},
   "outputs": [],
   "source": [
    "# Combining both datasets\n",
    "\n",
    "df = pd.concat([df1, df2], axis = 0)\n"
   ]
  },
  {
   "cell_type": "code",
   "execution_count": 62,
   "metadata": {},
   "outputs": [
    {
     "name": "stdout",
     "output_type": "stream",
     "text": [
      "<class 'pandas.core.frame.DataFrame'>\n",
      "Index: 1100 entries, 0 to 99\n",
      "Data columns (total 7 columns):\n",
      " #   Column               Non-Null Count  Dtype  \n",
      "---  ------               --------------  -----  \n",
      " 0   Building Type        1100 non-null   object \n",
      " 1   Square Footage       1100 non-null   int64  \n",
      " 2   Number of Occupants  1100 non-null   int64  \n",
      " 3   Appliances Used      1100 non-null   int64  \n",
      " 4   Average Temperature  1100 non-null   float64\n",
      " 5   Day of Week          1100 non-null   object \n",
      " 6   Energy Consumption   1100 non-null   float64\n",
      "dtypes: float64(2), int64(3), object(2)\n",
      "memory usage: 68.8+ KB\n"
     ]
    }
   ],
   "source": [
    "df.info()"
   ]
  },
  {
   "cell_type": "code",
   "execution_count": 63,
   "metadata": {},
   "outputs": [
    {
     "data": {
      "text/plain": [
       "Building Type          0\n",
       "Square Footage         0\n",
       "Number of Occupants    0\n",
       "Appliances Used        0\n",
       "Average Temperature    0\n",
       "Day of Week            0\n",
       "Energy Consumption     0\n",
       "dtype: int64"
      ]
     },
     "execution_count": 63,
     "metadata": {},
     "output_type": "execute_result"
    }
   ],
   "source": [
    "# Checking the null Values\n",
    "\n",
    "df.isnull().sum()"
   ]
  },
  {
   "cell_type": "code",
   "execution_count": 64,
   "metadata": {},
   "outputs": [
    {
     "data": {
      "text/html": [
       "<div>\n",
       "<style scoped>\n",
       "    .dataframe tbody tr th:only-of-type {\n",
       "        vertical-align: middle;\n",
       "    }\n",
       "\n",
       "    .dataframe tbody tr th {\n",
       "        vertical-align: top;\n",
       "    }\n",
       "\n",
       "    .dataframe thead th {\n",
       "        text-align: right;\n",
       "    }\n",
       "</style>\n",
       "<table border=\"1\" class=\"dataframe\">\n",
       "  <thead>\n",
       "    <tr style=\"text-align: right;\">\n",
       "      <th></th>\n",
       "      <th>Square Footage</th>\n",
       "      <th>Number of Occupants</th>\n",
       "      <th>Appliances Used</th>\n",
       "      <th>Average Temperature</th>\n",
       "      <th>Energy Consumption</th>\n",
       "    </tr>\n",
       "  </thead>\n",
       "  <tbody>\n",
       "    <tr>\n",
       "      <th>count</th>\n",
       "      <td>1100.000000</td>\n",
       "      <td>1100.000000</td>\n",
       "      <td>1100.000000</td>\n",
       "      <td>1100.000000</td>\n",
       "      <td>1100.000000</td>\n",
       "    </tr>\n",
       "    <tr>\n",
       "      <th>mean</th>\n",
       "      <td>25500.527273</td>\n",
       "      <td>48.268182</td>\n",
       "      <td>25.730000</td>\n",
       "      <td>22.559745</td>\n",
       "      <td>4168.191273</td>\n",
       "    </tr>\n",
       "    <tr>\n",
       "      <th>std</th>\n",
       "      <td>14236.955632</td>\n",
       "      <td>29.127624</td>\n",
       "      <td>14.116209</td>\n",
       "      <td>7.122357</td>\n",
       "      <td>924.278723</td>\n",
       "    </tr>\n",
       "    <tr>\n",
       "      <th>min</th>\n",
       "      <td>560.000000</td>\n",
       "      <td>1.000000</td>\n",
       "      <td>1.000000</td>\n",
       "      <td>10.050000</td>\n",
       "      <td>1683.950000</td>\n",
       "    </tr>\n",
       "    <tr>\n",
       "      <th>25%</th>\n",
       "      <td>13203.750000</td>\n",
       "      <td>22.000000</td>\n",
       "      <td>13.000000</td>\n",
       "      <td>16.365000</td>\n",
       "      <td>3510.460000</td>\n",
       "    </tr>\n",
       "    <tr>\n",
       "      <th>50%</th>\n",
       "      <td>25785.500000</td>\n",
       "      <td>47.000000</td>\n",
       "      <td>26.000000</td>\n",
       "      <td>22.810000</td>\n",
       "      <td>4189.690000</td>\n",
       "    </tr>\n",
       "    <tr>\n",
       "      <th>75%</th>\n",
       "      <td>37536.750000</td>\n",
       "      <td>73.000000</td>\n",
       "      <td>38.000000</td>\n",
       "      <td>28.760000</td>\n",
       "      <td>4859.510000</td>\n",
       "    </tr>\n",
       "    <tr>\n",
       "      <th>max</th>\n",
       "      <td>49997.000000</td>\n",
       "      <td>99.000000</td>\n",
       "      <td>49.000000</td>\n",
       "      <td>34.990000</td>\n",
       "      <td>6530.600000</td>\n",
       "    </tr>\n",
       "  </tbody>\n",
       "</table>\n",
       "</div>"
      ],
      "text/plain": [
       "       Square Footage  Number of Occupants  Appliances Used  \\\n",
       "count     1100.000000          1100.000000      1100.000000   \n",
       "mean     25500.527273            48.268182        25.730000   \n",
       "std      14236.955632            29.127624        14.116209   \n",
       "min        560.000000             1.000000         1.000000   \n",
       "25%      13203.750000            22.000000        13.000000   \n",
       "50%      25785.500000            47.000000        26.000000   \n",
       "75%      37536.750000            73.000000        38.000000   \n",
       "max      49997.000000            99.000000        49.000000   \n",
       "\n",
       "       Average Temperature  Energy Consumption  \n",
       "count          1100.000000         1100.000000  \n",
       "mean             22.559745         4168.191273  \n",
       "std               7.122357          924.278723  \n",
       "min              10.050000         1683.950000  \n",
       "25%              16.365000         3510.460000  \n",
       "50%              22.810000         4189.690000  \n",
       "75%              28.760000         4859.510000  \n",
       "max              34.990000         6530.600000  "
      ]
     },
     "execution_count": 64,
     "metadata": {},
     "output_type": "execute_result"
    }
   ],
   "source": [
    "df.describe()"
   ]
  },
  {
   "cell_type": "code",
   "execution_count": 65,
   "metadata": {},
   "outputs": [
    {
     "data": {
      "image/png": "[encoded data removed]",
      "text/plain": [
       "<Figure size 640x480 with 1 Axes>"
      ]
     },
     "metadata": {},
     "output_type": "display_data"
    }
   ],
   "source": [
    "sns.boxplot(df)\n",
    "plt.title('checking for outliers')\n",
    "plt.show()"
   ]
  },
  {
   "cell_type": "code",
   "execution_count": null,
   "metadata": {},
   "outputs": [],
   "source": []
  },
  {
   "cell_type": "code",
   "execution_count": 66,
   "metadata": {},
   "outputs": [
    {
     "data": {
      "text/html": [
       "<div>\n",
       "<style scoped>\n",
       "    .dataframe tbody tr th:only-of-type {\n",
       "        vertical-align: middle;\n",
       "    }\n",
       "\n",
       "    .dataframe tbody tr th {\n",
       "        vertical-align: top;\n",
       "    }\n",
       "\n",
       "    .dataframe thead th {\n",
       "        text-align: right;\n",
       "    }\n",
       "</style>\n",
       "<table border=\"1\" class=\"dataframe\">\n",
       "  <thead>\n",
       "    <tr style=\"text-align: right;\">\n",
       "      <th></th>\n",
       "      <th>feature</th>\n",
       "      <th>Mean</th>\n",
       "      <th>Median</th>\n",
       "      <th>Mode</th>\n",
       "      <th>Min</th>\n",
       "      <th>Max</th>\n",
       "      <th>Skewness</th>\n",
       "      <th>Kurtosis</th>\n",
       "      <th>Standard Deviation</th>\n",
       "      <th>variance</th>\n",
       "    </tr>\n",
       "  </thead>\n",
       "  <tbody>\n",
       "    <tr>\n",
       "      <th>0</th>\n",
       "      <td>Square Footage</td>\n",
       "      <td>25500.527273</td>\n",
       "      <td>25785.50</td>\n",
       "      <td>11289.00</td>\n",
       "      <td>560.00</td>\n",
       "      <td>49997.00</td>\n",
       "      <td>-0.009364</td>\n",
       "      <td>-1.170704</td>\n",
       "      <td>14236.955632</td>\n",
       "      <td>2.026909e+08</td>\n",
       "    </tr>\n",
       "    <tr>\n",
       "      <th>1</th>\n",
       "      <td>Number of Occupants</td>\n",
       "      <td>48.268182</td>\n",
       "      <td>47.00</td>\n",
       "      <td>21.00</td>\n",
       "      <td>1.00</td>\n",
       "      <td>99.00</td>\n",
       "      <td>0.095382</td>\n",
       "      <td>-1.246361</td>\n",
       "      <td>29.127624</td>\n",
       "      <td>8.484185e+02</td>\n",
       "    </tr>\n",
       "    <tr>\n",
       "      <th>2</th>\n",
       "      <td>Appliances Used</td>\n",
       "      <td>25.730000</td>\n",
       "      <td>26.00</td>\n",
       "      <td>45.00</td>\n",
       "      <td>1.00</td>\n",
       "      <td>49.00</td>\n",
       "      <td>-0.047299</td>\n",
       "      <td>-1.192505</td>\n",
       "      <td>14.116209</td>\n",
       "      <td>1.992673e+02</td>\n",
       "    </tr>\n",
       "    <tr>\n",
       "      <th>3</th>\n",
       "      <td>Average Temperature</td>\n",
       "      <td>22.559745</td>\n",
       "      <td>22.81</td>\n",
       "      <td>16.24</td>\n",
       "      <td>10.05</td>\n",
       "      <td>34.99</td>\n",
       "      <td>-0.035257</td>\n",
       "      <td>-1.173093</td>\n",
       "      <td>7.122357</td>\n",
       "      <td>5.072797e+01</td>\n",
       "    </tr>\n",
       "    <tr>\n",
       "      <th>4</th>\n",
       "      <td>Energy Consumption</td>\n",
       "      <td>4168.191273</td>\n",
       "      <td>4189.69</td>\n",
       "      <td>1683.95</td>\n",
       "      <td>1683.95</td>\n",
       "      <td>6530.60</td>\n",
       "      <td>-0.060156</td>\n",
       "      <td>-0.565316</td>\n",
       "      <td>924.278723</td>\n",
       "      <td>8.542912e+05</td>\n",
       "    </tr>\n",
       "  </tbody>\n",
       "</table>\n",
       "</div>"
      ],
      "text/plain": [
       "               feature          Mean    Median      Mode      Min       Max  \\\n",
       "0       Square Footage  25500.527273  25785.50  11289.00   560.00  49997.00   \n",
       "1  Number of Occupants     48.268182     47.00     21.00     1.00     99.00   \n",
       "2      Appliances Used     25.730000     26.00     45.00     1.00     49.00   \n",
       "3  Average Temperature     22.559745     22.81     16.24    10.05     34.99   \n",
       "4   Energy Consumption   4168.191273   4189.69   1683.95  1683.95   6530.60   \n",
       "\n",
       "   Skewness  Kurtosis  Standard Deviation      variance  \n",
       "0 -0.009364 -1.170704        14236.955632  2.026909e+08  \n",
       "1  0.095382 -1.246361           29.127624  8.484185e+02  \n",
       "2 -0.047299 -1.192505           14.116209  1.992673e+02  \n",
       "3 -0.035257 -1.173093            7.122357  5.072797e+01  \n",
       "4 -0.060156 -0.565316          924.278723  8.542912e+05  "
      ]
     },
     "execution_count": 66,
     "metadata": {},
     "output_type": "execute_result"
    }
   ],
   "source": [
    "from collections import OrderedDict\n",
    "\n",
    "stats = []\n",
    "\n",
    "for i in df.columns:\n",
    "    if df[i].dtype != 'object':\n",
    "      Numerical_stats = OrderedDict({\n",
    "        'feature' : i,\n",
    "        'Mean' : df[i].mean(),\n",
    "        'Median' : df[i].median(),\n",
    "        'Mode' : df[i].mode()[0],\n",
    "        'Min' : df[i].min(),\n",
    "        'Max' : df[i].max(),\n",
    "        'Skewness' : df[i].skew(),\n",
    "        'Kurtosis' : df[i].kurtosis(),\n",
    "        'Standard Deviation' : df[i].std(),\n",
    "        'variance' : df[i].var()\n",
    "      })\n",
    "      stats.append(Numerical_stats)\n",
    "\n",
    "    stats_df = pd.DataFrame(stats)\n",
    "    \n",
    "stats_df"
   ]
  },
  {
   "cell_type": "code",
   "execution_count": 67,
   "metadata": {},
   "outputs": [
    {
     "data": {
      "text/html": [
       "<div>\n",
       "<style scoped>\n",
       "    .dataframe tbody tr th:only-of-type {\n",
       "        vertical-align: middle;\n",
       "    }\n",
       "\n",
       "    .dataframe tbody tr th {\n",
       "        vertical-align: top;\n",
       "    }\n",
       "\n",
       "    .dataframe thead th {\n",
       "        text-align: right;\n",
       "    }\n",
       "</style>\n",
       "<table border=\"1\" class=\"dataframe\">\n",
       "  <thead>\n",
       "    <tr style=\"text-align: right;\">\n",
       "      <th></th>\n",
       "      <th>Building Type</th>\n",
       "      <th>Square Footage</th>\n",
       "      <th>Number of Occupants</th>\n",
       "      <th>Appliances Used</th>\n",
       "      <th>Average Temperature</th>\n",
       "      <th>Day of Week</th>\n",
       "      <th>Energy Consumption</th>\n",
       "    </tr>\n",
       "  </thead>\n",
       "  <tbody>\n",
       "    <tr>\n",
       "      <th>708</th>\n",
       "      <td>2</td>\n",
       "      <td>29234</td>\n",
       "      <td>39</td>\n",
       "      <td>17</td>\n",
       "      <td>34.43</td>\n",
       "      <td>1</td>\n",
       "      <td>3519.56</td>\n",
       "    </tr>\n",
       "    <tr>\n",
       "      <th>457</th>\n",
       "      <td>0</td>\n",
       "      <td>2250</td>\n",
       "      <td>11</td>\n",
       "      <td>4</td>\n",
       "      <td>22.11</td>\n",
       "      <td>0</td>\n",
       "      <td>2241.96</td>\n",
       "    </tr>\n",
       "    <tr>\n",
       "      <th>541</th>\n",
       "      <td>0</td>\n",
       "      <td>29365</td>\n",
       "      <td>18</td>\n",
       "      <td>24</td>\n",
       "      <td>12.93</td>\n",
       "      <td>1</td>\n",
       "      <td>4063.62</td>\n",
       "    </tr>\n",
       "    <tr>\n",
       "      <th>980</th>\n",
       "      <td>0</td>\n",
       "      <td>21788</td>\n",
       "      <td>21</td>\n",
       "      <td>9</td>\n",
       "      <td>21.56</td>\n",
       "      <td>1</td>\n",
       "      <td>3371.60</td>\n",
       "    </tr>\n",
       "    <tr>\n",
       "      <th>810</th>\n",
       "      <td>1</td>\n",
       "      <td>47795</td>\n",
       "      <td>9</td>\n",
       "      <td>15</td>\n",
       "      <td>34.61</td>\n",
       "      <td>0</td>\n",
       "      <td>5156.72</td>\n",
       "    </tr>\n",
       "    <tr>\n",
       "      <th>...</th>\n",
       "      <td>...</td>\n",
       "      <td>...</td>\n",
       "      <td>...</td>\n",
       "      <td>...</td>\n",
       "      <td>...</td>\n",
       "      <td>...</td>\n",
       "      <td>...</td>\n",
       "    </tr>\n",
       "    <tr>\n",
       "      <th>798</th>\n",
       "      <td>1</td>\n",
       "      <td>31311</td>\n",
       "      <td>60</td>\n",
       "      <td>27</td>\n",
       "      <td>17.31</td>\n",
       "      <td>0</td>\n",
       "      <td>5168.99</td>\n",
       "    </tr>\n",
       "    <tr>\n",
       "      <th>990</th>\n",
       "      <td>1</td>\n",
       "      <td>48337</td>\n",
       "      <td>69</td>\n",
       "      <td>44</td>\n",
       "      <td>15.67</td>\n",
       "      <td>0</td>\n",
       "      <td>6458.51</td>\n",
       "    </tr>\n",
       "    <tr>\n",
       "      <th>159</th>\n",
       "      <td>2</td>\n",
       "      <td>3208</td>\n",
       "      <td>68</td>\n",
       "      <td>29</td>\n",
       "      <td>14.07</td>\n",
       "      <td>1</td>\n",
       "      <td>2850.05</td>\n",
       "    </tr>\n",
       "    <tr>\n",
       "      <th>0</th>\n",
       "      <td>2</td>\n",
       "      <td>24563</td>\n",
       "      <td>15</td>\n",
       "      <td>4</td>\n",
       "      <td>28.52</td>\n",
       "      <td>0</td>\n",
       "      <td>2865.57</td>\n",
       "    </tr>\n",
       "    <tr>\n",
       "      <th>46</th>\n",
       "      <td>1</td>\n",
       "      <td>40885</td>\n",
       "      <td>6</td>\n",
       "      <td>31</td>\n",
       "      <td>20.30</td>\n",
       "      <td>0</td>\n",
       "      <td>5172.77</td>\n",
       "    </tr>\n",
       "  </tbody>\n",
       "</table>\n",
       "<p>1100 rows × 7 columns</p>\n",
       "</div>"
      ],
      "text/plain": [
       "     Building Type  Square Footage  Number of Occupants  Appliances Used  \\\n",
       "708              2           29234                   39               17   \n",
       "457              0            2250                   11                4   \n",
       "541              0           29365                   18               24   \n",
       "980              0           21788                   21                9   \n",
       "810              1           47795                    9               15   \n",
       "..             ...             ...                  ...              ...   \n",
       "798              1           31311                   60               27   \n",
       "990              1           48337                   69               44   \n",
       "159              2            3208                   68               29   \n",
       "0                2           24563                   15                4   \n",
       "46               1           40885                    6               31   \n",
       "\n",
       "     Average Temperature  Day of Week  Energy Consumption  \n",
       "708                34.43            1             3519.56  \n",
       "457                22.11            0             2241.96  \n",
       "541                12.93            1             4063.62  \n",
       "980                21.56            1             3371.60  \n",
       "810                34.61            0             5156.72  \n",
       "..                   ...          ...                 ...  \n",
       "798                17.31            0             5168.99  \n",
       "990                15.67            0             6458.51  \n",
       "159                14.07            1             2850.05  \n",
       "0                  28.52            0             2865.57  \n",
       "46                 20.30            0             5172.77  \n",
       "\n",
       "[1100 rows x 7 columns]"
      ]
     },
     "execution_count": 67,
     "metadata": {},
     "output_type": "execute_result"
    }
   ],
   "source": [
    "# Label Encoding categorical variables\n",
    "from sklearn.preprocessing import LabelEncoder\n",
    "\n",
    "LE = LabelEncoder()\n",
    "\n",
    "df['Building Type'] = LE.fit_transform(df['Building Type'])\n",
    "\n",
    "df['Day of Week'] = LE.fit_transform(df['Day of Week'])\n",
    "\n",
    "df.sample(frac=1)\n",
    "\n",
    "\n"
   ]
  },
  {
   "cell_type": "code",
   "execution_count": 68,
   "metadata": {},
   "outputs": [
    {
     "data": {
      "text/plain": [
       "<Axes: >"
      ]
     },
     "execution_count": 68,
     "metadata": {},
     "output_type": "execute_result"
    },
    {
     "data": {
      "image/png": "[encoded data removed]",
      "text/plain": [
       "<Figure size 640x480 with 2 Axes>"
      ]
     },
     "metadata": {},
     "output_type": "display_data"
    }
   ],
   "source": [
    "df.corr()['Energy Consumption'].sort_values(ascending=False)\n",
    "sns.heatmap(df.corr(), annot=True)"
   ]
  },
  {
   "cell_type": "code",
   "execution_count": 69,
   "metadata": {},
   "outputs": [],
   "source": [
    "# Splitting the dataset into X and y\n",
    "\n",
    "from sklearn.model_selection import train_test_split\n",
    "\n",
    "X = df.drop('Energy Consumption', axis = 1)\n",
    "y = df['Energy Consumption']\n",
    "\n",
    "# Splitting the dataset into training set and test set\n",
    "\n",
    "from  sklearn.model_selection import train_test_split\n",
    "X_train, X_test, y_train, y_test = train_test_split(X, y, test_size = 0.3, random_state = 42)\n",
    "\n"
   ]
  },
  {
   "cell_type": "code",
   "execution_count": 70,
   "metadata": {},
   "outputs": [],
   "source": [
    "# scaling the features\n",
    "from sklearn.preprocessing import MinMaxScaler\n",
    "\n",
    "scaler = MinMaxScaler()\n",
    "\n",
    "X_train = scaler.fit_transform(X_train)\n",
    "\n",
    "X_test = scaler.transform(X_test)\n"
   ]
  },
  {
   "cell_type": "code",
   "execution_count": 71,
   "metadata": {},
   "outputs": [
    {
     "data": {
      "text/plain": [
       "0.9750668908668306"
      ]
     },
     "execution_count": 71,
     "metadata": {},
     "output_type": "execute_result"
    }
   ],
   "source": [
    "# import the random forest regressor model\n",
    "\n",
    "from sklearn.ensemble import RandomForestRegressor\n",
    "from sklearn.metrics import r2_score\n",
    "\n",
    "RF = RandomForestRegressor()\n",
    "\n",
    "RF.fit(X_train, y_train)\n",
    "\n",
    "y_pred_RF = RF.predict(X_test)\n",
    "\n",
    "r2_score_RF = r2_score(y_test, y_pred_RF)\n",
    "\n",
    "r2_score_RF"
   ]
  },
  {
   "cell_type": "code",
   "execution_count": 72,
   "metadata": {},
   "outputs": [
    {
     "data": {
      "text/plain": [
       "0.8558894689449238"
      ]
     },
     "execution_count": 72,
     "metadata": {},
     "output_type": "execute_result"
    }
   ],
   "source": [
    "from sklearn.linear_model import LinearRegression\n",
    "\n",
    "lR = LinearRegression()\n",
    "\n",
    "lR.fit(X_train, y_train)\n",
    "\n",
    "y_pred_LR = lR.predict(X_test)\n",
    "\n",
    "r2_score_LR = r2_score(y_test, y_pred_LR)\n",
    "\n",
    "r2_score_LR"
   ]
  },
  {
   "cell_type": "code",
   "execution_count": 73,
   "metadata": {},
   "outputs": [
    {
     "data": {
      "text/plain": [
       "0.9188312832787127"
      ]
     },
     "execution_count": 73,
     "metadata": {},
     "output_type": "execute_result"
    }
   ],
   "source": [
    "# Desicion Tree Regressor\n",
    "\n",
    "from sklearn.tree import DecisionTreeRegressor\n",
    "\n",
    "dt = DecisionTreeRegressor()\n",
    "\n",
    "dt.fit(X_train, y_train)\n",
    "\n",
    "y_pred_dt = dt.predict(X_test)\n",
    "\n",
    "r2_score_DT = r2_score(y_test, y_pred_dt)\n",
    "\n",
    "r2_score_DT"
   ]
  },
  {
   "cell_type": "code",
   "execution_count": 74,
   "metadata": {},
   "outputs": [
    {
     "data": {
      "text/plain": [
       "0.8560159403691033"
      ]
     },
     "execution_count": 74,
     "metadata": {},
     "output_type": "execute_result"
    }
   ],
   "source": [
    "# Ridge Regression\n",
    "\n",
    "from sklearn.linear_model import Ridge\n",
    "\n",
    "ridge = Ridge()\n",
    "\n",
    "ridge.fit(X_train, y_train)\n",
    "\n",
    "y_pred_ridge = ridge.predict(X_test)\n",
    "\n",
    "r2_score_ridge = r2_score(y_test, y_pred_ridge)\n",
    "\n",
    "r2_score_ridge"
   ]
  },
  {
   "cell_type": "code",
   "execution_count": 75,
   "metadata": {},
   "outputs": [
    {
     "data": {
      "text/plain": [
       "0.8560403238906485"
      ]
     },
     "execution_count": 75,
     "metadata": {},
     "output_type": "execute_result"
    }
   ],
   "source": [
    "# Lasso Regression\n",
    "\n",
    "from sklearn.linear_model import Lasso\n",
    "\n",
    "lasso = Lasso()\n",
    "\n",
    "lasso.fit(X_train, y_train)\n",
    "\n",
    "y_pred_Lasso = lasso.predict(X_test)\n",
    "\n",
    "r2_score_lasso = r2_score(y_test, y_pred_Lasso)\n",
    "\n",
    "r2_score_lasso"
   ]
  },
  {
   "cell_type": "code",
   "execution_count": 78,
   "metadata": {},
   "outputs": [],
   "source": [
    "# evaluating the models\n",
    "from sklearn.metrics import mean_squared_error, mean_absolute_error, r2_score\n",
    "\n",
    "mse_RF = mean_squared_error(y_test, y_pred_RF)\n",
    "\n",
    "mae_RF = mean_absolute_error(y_test, y_pred_RF)\n",
    "\n",
    "r2_score_RF = r2_score(y_test, y_pred_RF)"
   ]
  },
  {
   "cell_type": "code",
   "execution_count": 79,
   "metadata": {},
   "outputs": [
    {
     "name": "stdout",
     "output_type": "stream",
     "text": [
      "Mean Squared Error: 20818.21429890993\n",
      "Mean Absolute Error: 115.73790878787915\n",
      "R2 Score: 0.9750668908668306\n"
     ]
    }
   ],
   "source": [
    "print('Mean Squared Error:', mse_RF)\n",
    "\n",
    "print('Mean Absolute Error:', mae_RF)\n",
    "\n",
    "print('R2 Score:', r2_score_RF)\n"
   ]
  }
 ],
 "metadata": {
  "kernelspec": {
   "display_name": "base",
   "language": "python",
   "name": "python3"
  },
  "language_info": {
   "codemirror_mode": {
    "name": "ipython",
    "version": 3
   },
   "file_extension": ".py",
   "mimetype": "text/x-python",
   "name": "python",
   "nbconvert_exporter": "python",
   "pygments_lexer": "ipython3",
   "version": "3.12.7"
  }
 },
 "nbformat": 4,
 "nbformat_minor": 2
}
